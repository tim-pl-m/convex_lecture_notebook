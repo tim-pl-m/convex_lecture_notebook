{
 "metadata": {
  "kernelspec": {
   "display_name": "Python 2",
   "language": "python",
   "name": "python2"
  },
  "language_info": {
   "codemirror_mode": {
    "name": "ipython",
    "version": 2
   },
   "file_extension": ".py",
   "mimetype": "text/x-python",
   "name": "python",
   "nbconvert_exporter": "python",
   "pygments_lexer": "ipython2",
   "version": "2.7.12"
  },
  "name": "",
  "signature": "sha256:7e4ee9eb60c3423cd1c320bc2e281bad1aff8b6b392d7ee447834e78c6c21b7c"
 },
 "nbformat": 3,
 "nbformat_minor": 0,
 "worksheets": [
  {
   "cells": [
    {
     "cell_type": "code",
     "collapsed": true,
     "input": [
      "import numpy as np\n",
      "import cvxopt as cvx\n",
      "import matplotlib\n",
      "import matplotlib.pyplot as plt\n",
      "get_ipython().magic(u'matplotlib inline')\n",
      "matplotlib.rcParams['figure.figsize'] = (4, 4)"
     ],
     "language": "python",
     "metadata": {},
     "outputs": [],
     "prompt_number": 1
    },
    {
     "cell_type": "heading",
     "level": 3,
     "metadata": {},
     "source": [
      "define some constants"
     ]
    },
    {
     "cell_type": "code",
     "collapsed": true,
     "input": [
      "g=9.8     #gravity on earth\n",
      "A0 = 0.01 #unit section of a bar (in m2)\n",
      "D = 450.  #density of the bar (kg/m3)\n",
      "E = 9 #young elasticity modulus (in GPa) --> so u = K^-1 f is in nm"
     ],
     "language": "python",
     "metadata": {},
     "outputs": [],
     "prompt_number": 2
    },
    {
     "cell_type": "heading",
     "level": 4,
     "metadata": {},
     "source": [
      "This function returns the variables `nodes` (coordinate of truss nodes),`bars` (list of pairs of nodes), and `dofs` ({0,1}-array of the same size as `nodes`, which indicates the degrees of freedom of the truss)."
     ]
    },
    {
     "cell_type": "code",
     "collapsed": true,
     "input": [
      "def small_structure():\n",
      "    nodes = np.array([\n",
      "    [0,1],#node 0\n",
      "    [1,1],#node 1\n",
      "    [0,0],#node 2\n",
      "    [1,0],#node 3\n",
      "    [2,0],#node 4\n",
      "    ])\n",
      "\n",
      "    dofs = np.array([\n",
      "        [0,0],#node 0 does not move\n",
      "        [1,1],#node 1 is free\n",
      "        [0,1],#node 2 can move vertically\n",
      "        [1,1],#node 3 is free\n",
      "        [1,1],#node 4 is free\n",
      "        ])\n",
      "\n",
      "    bars = [[0,1],\n",
      "            [0,2],\n",
      "            [1,2],\n",
      "            [2,3],\n",
      "            [1,3],\n",
      "            [1,4],\n",
      "            [3,4]]\n",
      "    return nodes,dofs,bars\n"
     ],
     "language": "python",
     "metadata": {},
     "outputs": [],
     "prompt_number": 3
    },
    {
     "cell_type": "markdown",
     "metadata": {},
     "source": [
      "The function `stiffness_vectors` returns the list of vectors $\\boldsymbol{v}_i$'s such that the stiffness matrix is equal to $\\sum_i x_i \\boldsymbol{v}_i \\boldsymbol{v}_i^ T$, where $x_i$ is the scaling factor of bar $i$.\n",
      "\n",
      "The function `stiffness_matrix(x)` returns the matrix $\\sum_i x_i \\boldsymbol{v}_i \\boldsymbol{v}_i^ T$."
     ]
    },
    {
     "cell_type": "code",
     "collapsed": true,
     "input": [
      "def stiffness_vectors():\n",
      "    v = []\n",
      "    n = len(nodes)\n",
      "    m = len(bars)\n",
      "    d = nodes.shape[1]\n",
      "    dof_mask = np.concatenate(dofs,axis=0)\n",
      "    for k,(i,j) in enumerate(bars):\n",
      "        L = np.linalg.norm(nodes[i]-nodes[j])\n",
      "        angles = (nodes[j]-nodes[i])/L\n",
      "        vk = np.array([0.]*d*n)\n",
      "        vk[d*i:d*(i+1)] = angles\n",
      "        vk[d*j:d*(j+1)] = -angles\n",
      "        vk *= (E*A0/L)**0.5\n",
      "        v.append(cvx.matrix(vk[dof_mask==1]))\n",
      "    return v\n",
      "            \n",
      "def stiffness_matrix(x=None):\n",
      "    n = len(bars)\n",
      "    if x is None:\n",
      "        x=[1]*n\n",
      "    v = stiffness_vectors()\n",
      "    m = len(v[0])\n",
      "    K = cvx.matrix(0,(m,m))\n",
      "    for i in range(n):\n",
      "        K = K + x[i]*v[i]*v[i].T\n",
      "    return K"
     ],
     "language": "python",
     "metadata": {},
     "outputs": [],
     "prompt_number": 4
    },
    {
     "cell_type": "markdown",
     "metadata": {},
     "source": [
      "This function draws the truss (defined in global vars `nodes`,`dofs`\n",
      "and `bars`), with bar widths `x`, and if a force vector `f` is provided, the displacement of the structure, amplified by a factor `delta`."
     ]
    },
    {
     "cell_type": "code",
     "collapsed": true,
     "input": [
      "def draw_truss(x=None,f=None, delta = 1.):\n",
      "    if x is None:\n",
      "        x=[1]*len(bars)\n",
      "    for k,(i,j) in enumerate(bars):\n",
      "        plt.plot([nodes[i][0],nodes[j][0]],[nodes[i][1],nodes[j][1]],linewidth = 3*x[k],color='blue')\n",
      "    \n",
      "    minx,miny = np.min(nodes,axis=0)\n",
      "    maxx,maxy = np.max(nodes,axis=0)\n",
      "    plt.xlim(minx-0.2,maxx+0.2)\n",
      "    plt.ylim(miny-0.2,maxy+.2)\n",
      "    \n",
      "    if f is not None:\n",
      "        K = stiffness_matrix(x=x)\n",
      "        dof_mask = np.concatenate(dofs,axis=0)\n",
      "        ff = f.ravel()[dof_mask==1] #projection on coordinates of the degrees of freedom\n",
      "        dx = np.zeros(nodes.shape[0]*nodes.shape[1])\n",
      "        dx[dof_mask==1] = np.linalg.lstsq(K,ff)[0]*1e-9 #1e-9 because E is in GPa\n",
      "        dx= np.reshape(dx,nodes.shape)\n",
      "        dnodes = nodes + delta * dx\n",
      "        for k,(i,j) in enumerate(bars):\n",
      "            plt.plot([dnodes[i][0],dnodes[j][0]],[dnodes[i][1],dnodes[j][1]],linewidth = 3*x[k],color='red')"
     ],
     "language": "python",
     "metadata": {},
     "outputs": [],
     "prompt_number": 5
    },
    {
     "cell_type": "heading",
     "level": 3,
     "metadata": {},
     "source": [
      "OK, let's draw the truss"
     ]
    },
    {
     "cell_type": "code",
     "collapsed": false,
     "input": [
      "nodes,dofs,bars = small_structure()\n",
      "draw_truss()\n",
      "\n",
      "### Now, we apply a force and we display the displacements"
     ],
     "language": "python",
     "metadata": {},
     "outputs": [
      {
       "metadata": {},
       "output_type": "display_data",
       "png": "[encoded data removed]",
       "text": [
        "<matplotlib.figure.Figure at 0x7fd7503e6250>"
       ]
      }
     ],
     "prompt_number": 6
    },
    {
     "cell_type": "code",
     "collapsed": false,
     "input": [
      "#we define a force f that puts 500 kg on the 3 nodes below.\n",
      "#note that according to `nodes` and `dofs`, this corresponds to the\n",
      "#3rd, 5th, and 7th degrees of freedom.\n",
      "f = np.array([\n",
      "     [0,0],\n",
      "     [0,0],\n",
      "     [0,-g*500],# 500kg vertically on node 2\n",
      "     [0,-g*500],# 500kg vertically on node 3\n",
      "     [0,-g*500],# 500kg vertically on node 4\n",
      "     ])\n",
      "draw_truss(f=f,delta=50)"
     ],
     "language": "python",
     "metadata": {},
     "outputs": [
      {
       "metadata": {},
       "output_type": "display_data",
       "png": "[encoded data removed]",
       "text": [
        "<matplotlib.figure.Figure at 0x7fd72de1bcd0>"
       ]
      }
     ],
     "prompt_number": 7
    },
    {
     "cell_type": "markdown",
     "metadata": {},
     "source": [
      "### Now, a function to make the structure of a crane\n",
      "\n",
      "The function takes as arguments the total height and width of the crane,\n",
      "the height `cr` of the top part of the crane, and the\n",
      "maximum length of considered cross bars (1,2,or 3).\n",
      "\n",
      "The function further returns a force vector `F` (whose dimension cooresponds\n",
      "to the number of degrees of freedom of the structure), such that a force\n",
      "of coordinate (`ff[0],ff[1]`) is applied to the extremity of the crane."
     ]
    },
    {
     "cell_type": "code",
     "collapsed": false,
     "input": [
      "def crane_structure(cr=2,height=8,width=8,max_len=2,ff=(-500,-1000)):\n",
      "    nodes = []\n",
      "    for i in range(width):\n",
      "        for j in range(height):\n",
      "            if j>=height-cr-1 or i==2 or i==3:\n",
      "                nodes.append((i,j))\n",
      "\n",
      "    nodes = np.array(nodes) \n",
      "\n",
      "    dofs = np.ones(nodes.shape)\n",
      "    dofs[:,0][nodes[:,1]==0]=0\n",
      "    dofs[:,1][nodes[:,1]==0]=0\n",
      "\n",
      "    n = len(nodes)\n",
      "    bars = []\n",
      "    for i in range(n):\n",
      "        for j in range(n):\n",
      "            if i<j and np.linalg.norm(nodes[i]-nodes[j])<1.5:\n",
      "                bars.append([i,j])\n",
      "            if max_len>=2 and i<j and np.linalg.norm(nodes[i]-nodes[j])==5**0.5:\n",
      "                bars.append([i,j])\n",
      "            if max_len>=3 and i<j and np.linalg.norm(nodes[i]-nodes[j])==10**0.5:\n",
      "                bars.append([i,j])\n",
      "                \n",
      "    F = np.zeros((n,2))\n",
      "    F[n-1-cr,0]=g*ff[0]\n",
      "    F[n-1-cr,1]=g*ff[1]\n",
      "\n",
      "    return nodes,dofs,bars,F"
     ],
     "language": "python",
     "metadata": {},
     "outputs": [],
     "prompt_number": 59
    },
    {
     "cell_type": "markdown",
     "metadata": {},
     "source": [
      "### We are going to optimize the truss, subject to a constraint on the total volume of all bars: $\\sum_i x_i L_i \\leq W:= \\frac{V}{A_0}$\n",
      "### We first draw the crane for a \"uniform\" solution"
     ]
    },
    {
     "cell_type": "code",
     "collapsed": false,
     "input": [
      "nodes,dofs,bars,F = crane_structure(cr=2,height=10,width=10,max_len=3,ff=(-500,-1000))\n",
      "Lbars = [np.linalg.norm(nodes[i]-nodes[j]) for i,j in bars]\n",
      "n,m = len(nodes),len(bars)\n",
      "W = 50\n",
      "\n",
      "x = [1./sum(Lbars)*W]*m\n",
      "draw_truss(x=x,f=F)"
     ],
     "language": "python",
     "metadata": {},
     "outputs": [
      {
       "metadata": {},
       "output_type": "display_data",
       "png": "[encoded data removed]",
       "text": [
        "<matplotlib.figure.Figure at 0x7fd72d553190>"
       ]
      }
     ],
     "prompt_number": 81
    },
    {
     "cell_type": "heading",
     "level": 3,
     "metadata": {},
     "source": [
      "Now, formulate an SDP to minimize the compliance $\\boldsymbol{f}^T K^{-1} \\boldsymbol{f}$ of the crane."
     ]
    },
    {
     "cell_type": "code",
     "collapsed": false,
     "input": [
      "import picos as pic\n",
      "n = len(nodes)\n",
      "m = len(bars)\n",
      "v = stiffness_vectors()\n",
      "\n",
      "P = pic.Problem()\n",
      "x = P.add_variable('x',m,lower=0)\n",
      "t = P.add_variable('t',1)\n",
      "dof_mask = np.concatenate(dofs,axis=0)\n",
      "f = F.ravel()[dof_mask==1]   #project force on coordinates of degrees of freedom\n",
      "f = pic.new_param('f',f/1e6) #divide by 1e6 for the sake of numerical accuracy\n",
      "LL = pic.new_param('LL',Lbars)\n",
      "\n",
      "#define the stiffness matrix (note: this is a linear expression w.r.t. x)\n",
      "K = stiffness_matrix(x)\n",
      "P.add_constraint( ((K & f)// (f.T & t)) >> 0)\n",
      "\n",
      "P.add_constraint((LL|x)<=W)\n",
      "\n",
      "P.set_objective('min',t)\n",
      "P.solve()\n",
      "\n",
      "draw_truss(x=x.value,f=F)"
     ],
     "language": "python",
     "metadata": {},
     "outputs": [
      {
       "output_type": "stream",
       "stream": "stdout",
       "text": [
        "*** Dualizing the problem...  ***\n",
        "build mosek instance"
       ]
      },
      {
       "output_type": "stream",
       "stream": "stdout",
       "text": [
        "\n",
        "mosek instance built"
       ]
      },
      {
       "output_type": "stream",
       "stream": "stdout",
       "text": [
        "\n",
        "-----------------------------------\n",
        "         MOSEK version 7\n",
        "-----------------------------------\n",
        "Computer\n"
       ]
      },
      {
       "output_type": "stream",
       "stream": "stdout",
       "text": [
        "  Platform               : Linux/64-X86    \n"
       ]
      },
      {
       "output_type": "stream",
       "stream": "stdout",
       "text": [
        "  Cores                  : 4               \n"
       ]
      },
      {
       "output_type": "stream",
       "stream": "stdout",
       "text": [
        "\n"
       ]
      },
      {
       "output_type": "stream",
       "stream": "stdout",
       "text": [
        "Problem\n"
       ]
      },
      {
       "output_type": "stream",
       "stream": "stdout",
       "text": [
        "  Name                   :                 \n"
       ]
      },
      {
       "output_type": "stream",
       "stream": "stdout",
       "text": [
        "  Objective sense        : max             \n"
       ]
      },
      {
       "output_type": "stream",
       "stream": "stdout",
       "text": [
        "  Type                   : CONIC (conic optimization problem)\n"
       ]
      },
      {
       "output_type": "stream",
       "stream": "stdout",
       "text": [
        "  Constraints            : 488             \n"
       ]
      },
      {
       "output_type": "stream",
       "stream": "stdout",
       "text": [
        "  Cones                  : 0               \n"
       ]
      },
      {
       "output_type": "stream",
       "stream": "stdout",
       "text": [
        "  Scalar variables       : 244             \n"
       ]
      },
      {
       "output_type": "stream",
       "stream": "stdout",
       "text": [
        "  Matrix variables       : 1               \n"
       ]
      },
      {
       "output_type": "stream",
       "stream": "stdout",
       "text": [
        "  Integer variables      : 0               \n"
       ]
      },
      {
       "output_type": "stream",
       "stream": "stdout",
       "text": [
        "\n"
       ]
      },
      {
       "output_type": "stream",
       "stream": "stdout",
       "text": [
        "Optimizer started.\n"
       ]
      },
      {
       "output_type": "stream",
       "stream": "stdout",
       "text": [
        "Conic interior-point optimizer started.\n"
       ]
      },
      {
       "output_type": "stream",
       "stream": "stdout",
       "text": [
        "Presolve started.\n"
       ]
      },
      {
       "output_type": "stream",
       "stream": "stdout",
       "text": [
        "Linear dependency checker started.\n"
       ]
      },
      {
       "output_type": "stream",
       "stream": "stdout",
       "text": [
        "Linear dependency checker terminated.\n"
       ]
      },
      {
       "output_type": "stream",
       "stream": "stdout",
       "text": [
        "Eliminator - tries                  : 0                 time                   : 0.00            \n"
       ]
      },
      {
       "output_type": "stream",
       "stream": "stdout",
       "text": [
        "Eliminator - elim's                 : 0               \n"
       ]
      },
      {
       "output_type": "stream",
       "stream": "stdout",
       "text": [
        "Lin. dep.  - tries                  : 1                 time                   : 0.00            \n"
       ]
      },
      {
       "output_type": "stream",
       "stream": "stdout",
       "text": [
        "Lin. dep.  - number                 : 0               \n"
       ]
      },
      {
       "output_type": "stream",
       "stream": "stdout",
       "text": [
        "Presolve terminated. Time: 0.00    \n"
       ]
      },
      {
       "output_type": "stream",
       "stream": "stdout",
       "text": [
        "Optimizer  - threads                : 4               \n"
       ]
      },
      {
       "output_type": "stream",
       "stream": "stdout",
       "text": [
        "Optimizer  - solved problem         : the primal      \n"
       ]
      },
      {
       "output_type": "stream",
       "stream": "stdout",
       "text": [
        "Optimizer  - Constraints            : 243\n"
       ]
      },
      {
       "output_type": "stream",
       "stream": "stdout",
       "text": [
        "Optimizer  - Cones                  : 0\n"
       ]
      },
      {
       "output_type": "stream",
       "stream": "stdout",
       "text": [
        "Optimizer  - Scalar variables       : 243               conic                  : 0               \n"
       ]
      },
      {
       "output_type": "stream",
       "stream": "stdout",
       "text": [
        "Optimizer  - Semi-definite variables: 1                 scalarized             : 3655            \n"
       ]
      },
      {
       "output_type": "stream",
       "stream": "stdout",
       "text": [
        "Factor     - setup time             : 0.00              dense det. time        : 0.00            \n"
       ]
      },
      {
       "output_type": "stream",
       "stream": "stdout",
       "text": [
        "Factor     - ML order time          : 0.00              GP order time          : 0.00            \n"
       ]
      },
      {
       "output_type": "stream",
       "stream": "stdout",
       "text": [
        "Factor     - nonzeros before factor : 2.99e+04          after factor           : 2.99e+04        \n"
       ]
      },
      {
       "output_type": "stream",
       "stream": "stdout",
       "text": [
        "Factor     - dense dim.             : 1                 flops                  : 7.02e+06        \n"
       ]
      },
      {
       "output_type": "stream",
       "stream": "stdout",
       "text": [
        "ITE PFEAS    DFEAS    GFEAS    PRSTATUS   POBJ              DOBJ              MU       TIME  \n"
       ]
      },
      {
       "output_type": "stream",
       "stream": "stdout",
       "text": [
        "0   2.1e+00  4.9e+01  5.1e+01  0.00e+00   -5.000000000e+01  0.000000000e+00   1.0e+00  0.01  \n"
       ]
      },
      {
       "output_type": "stream",
       "stream": "stdout",
       "text": [
        "1   1.4e+00  3.3e+01  3.5e+01  1.07e+01   -3.407140492e+00  6.992467995e-01   6.8e-01  0.02  \n"
       ]
      },
      {
       "output_type": "stream",
       "stream": "stdout",
       "text": [
        "2   1.8e-01  4.1e+00  4.3e+00  1.21e+00   -4.543426270e-01  3.129305710e-02   8.5e-02  0.03  \n"
       ]
      },
      {
       "output_type": "stream",
       "stream": "stdout",
       "text": [
        "3   5.6e-02  1.3e+00  1.3e+00  1.20e+00   -1.300219037e-01  1.132630999e-02   2.6e-02  0.03  \n"
       ]
      },
      {
       "output_type": "stream",
       "stream": "stdout",
       "text": [
        "4   3.9e-02  8.9e-01  9.3e-01  9.97e-01   -9.074191786e-02  1.261365160e-02   1.8e-02  0.04  \n"
       ]
      },
      {
       "output_type": "stream",
       "stream": "stdout",
       "text": [
        "5   2.8e-02  6.3e-01  6.6e-01  8.36e-01   -6.508641371e-02  1.278753523e-02   1.3e-02  0.05  \n"
       ]
      },
      {
       "output_type": "stream",
       "stream": "stdout",
       "text": [
        "6   2.5e-02  5.7e-01  6.0e-01  1.70e-01   -6.626702603e-02  1.379832042e-02   1.2e-02  0.05  \n"
       ]
      },
      {
       "output_type": "stream",
       "stream": "stdout",
       "text": [
        "7   1.4e-02  3.2e-01  3.3e-01  4.46e-01   -3.400877706e-02  1.927250171e-02   6.5e-03  0.06  \n"
       ]
      },
      {
       "output_type": "stream",
       "stream": "stdout",
       "text": [
        "8   8.9e-03  2.1e-01  2.1e-01  8.08e-01   -1.477561002e-02  2.084865038e-02   4.2e-03  0.06  \n"
       ]
      },
      {
       "output_type": "stream",
       "stream": "stdout",
       "text": [
        "9   7.3e-03  1.7e-01  1.7e-01  1.17e-01   -1.279055672e-02  2.349887546e-02   3.4e-03  0.07  \n"
       ]
      },
      {
       "output_type": "stream",
       "stream": "stdout",
       "text": [
        "10  3.5e-03  8.1e-02  8.5e-02  3.71e-01   1.175498659e-02   3.348178520e-02   1.7e-03  0.08  \n"
       ]
      },
      {
       "output_type": "stream",
       "stream": "stdout",
       "text": [
        "11  1.8e-03  4.0e-02  4.2e-02  3.85e-01   2.720351577e-02   4.099538649e-02   8.3e-04  0.08  \n"
       ]
      },
      {
       "output_type": "stream",
       "stream": "stdout",
       "text": [
        "12  1.3e-03  2.9e-02  3.0e-02  -1.01e-01  3.193968420e-02   4.548351602e-02   5.9e-04  0.09  \n"
       ]
      },
      {
       "output_type": "stream",
       "stream": "stdout",
       "text": [
        "13  6.6e-04  1.5e-02  1.6e-02  1.12e-01   4.715446715e-02   5.635215537e-02   3.1e-04  0.10  \n"
       ]
      },
      {
       "output_type": "stream",
       "stream": "stdout",
       "text": [
        "14  3.1e-04  7.1e-03  7.4e-03  2.77e-01   6.200469701e-02   6.752456601e-02   1.4e-04  0.10  \n"
       ]
      },
      {
       "output_type": "stream",
       "stream": "stdout",
       "text": [
        "15  1.9e-04  4.4e-03  4.6e-03  7.99e-02   6.936650325e-02   7.386797334e-02   9.1e-05  0.11  \n"
       ]
      },
      {
       "output_type": "stream",
       "stream": "stdout",
       "text": [
        "16  9.9e-05  2.3e-03  2.4e-03  3.12e-01   8.035938010e-02   8.314635043e-02   4.6e-05  0.12  \n"
       ]
      },
      {
       "output_type": "stream",
       "stream": "stdout",
       "text": [
        "17  7.6e-05  1.7e-03  1.8e-03  9.17e-02   8.507010587e-02   8.787774666e-02   3.5e-05  0.12  \n"
       ]
      },
      {
       "output_type": "stream",
       "stream": "stdout",
       "text": [
        "18  3.2e-05  7.3e-04  7.6e-04  2.06e-01   1.001853846e-01   1.017123297e-01   1.5e-05  0.13  \n"
       ]
      },
      {
       "output_type": "stream",
       "stream": "stdout",
       "text": [
        "19  2.5e-05  5.7e-04  6.0e-04  1.14e-01   1.049831318e-01   1.064150104e-01   1.2e-05  0.13  \n"
       ]
      },
      {
       "output_type": "stream",
       "stream": "stdout",
       "text": [
        "20  1.2e-05  2.7e-04  2.8e-04  1.07e-01   1.190687300e-01   1.199544065e-01   5.5e-06  0.14  \n"
       ]
      },
      {
       "output_type": "stream",
       "stream": "stdout",
       "text": [
        "21  6.3e-06  1.5e-04  1.5e-04  9.28e-02   1.312606048e-01   1.318523805e-01   3.0e-06  0.15  \n"
       ]
      },
      {
       "output_type": "stream",
       "stream": "stdout",
       "text": [
        "22  2.9e-06  6.6e-05  6.9e-05  2.17e-02   1.484563336e-01   1.487606296e-01   1.3e-06  0.15  \n"
       ]
      },
      {
       "output_type": "stream",
       "stream": "stdout",
       "text": [
        "23  1.5e-06  3.4e-05  3.6e-05  1.06e-01   1.630209415e-01   1.631823734e-01   7.0e-07  0.16  \n"
       ]
      },
      {
       "output_type": "stream",
       "stream": "stdout",
       "text": [
        "24  1.3e-06  3.0e-05  3.1e-05  -2.09e-01  1.662130833e-01   1.663479292e-01   6.1e-07  0.16  \n"
       ]
      },
      {
       "output_type": "stream",
       "stream": "stdout",
       "text": [
        "25  6.1e-07  1.4e-05  1.5e-05  -7.16e-02  1.851260185e-01   1.851369311e-01   2.8e-07  0.17  \n"
       ]
      },
      {
       "output_type": "stream",
       "stream": "stdout",
       "text": [
        "26  1.9e-07  4.4e-06  4.6e-06  3.30e-01   2.067487302e-01   2.067344157e-01   9.0e-08  0.18  \n"
       ]
      },
      {
       "output_type": "stream",
       "stream": "stdout",
       "text": [
        "27  1.4e-07  3.2e-06  3.3e-06  6.65e-01   2.111846881e-01   2.111740039e-01   6.5e-08  0.18  \n"
       ]
      },
      {
       "output_type": "stream",
       "stream": "stdout",
       "text": [
        "28  5.4e-08  1.2e-06  1.3e-06  7.51e-01   2.185390174e-01   2.185352002e-01   2.5e-08  0.19  \n"
       ]
      },
      {
       "output_type": "stream",
       "stream": "stdout",
       "text": [
        "29  2.6e-08  5.9e-07  6.1e-07  8.91e-01   2.213571494e-01   2.213565902e-01   1.2e-08  0.19  \n"
       ]
      },
      {
       "output_type": "stream",
       "stream": "stdout",
       "text": [
        "30  8.4e-09  1.9e-07  2.0e-07  9.42e-01   2.230118594e-01   2.230117052e-01   3.9e-09  0.20  \n"
       ]
      },
      {
       "output_type": "stream",
       "stream": "stdout",
       "text": [
        "31  1.9e-09  4.4e-08  4.6e-08  9.74e-01   2.237036616e-01   2.237037545e-01   9.1e-10  0.21  \n"
       ]
      },
      {
       "output_type": "stream",
       "stream": "stdout",
       "text": [
        "32  1.6e-09  3.4e-09  3.5e-09  9.93e-01   2.238720311e-01   2.238720368e-01   7.0e-11  0.21  \n"
       ]
      },
      {
       "output_type": "stream",
       "stream": "stdout",
       "text": [
        "33  3.2e-09  2.9e-09  3.0e-09  1.00e+00   2.238743176e-01   2.238743246e-01   5.9e-11  0.22  \n"
       ]
      },
      {
       "output_type": "stream",
       "stream": "stdout",
       "text": [
        "34  3.2e-09  2.9e-09  3.0e-09  1.03e+00   2.238744647e-01   2.238744718e-01   5.9e-11  0.22  \n"
       ]
      },
      {
       "output_type": "stream",
       "stream": "stdout",
       "text": [
        "35  3.2e-09  2.9e-09  3.0e-09  1.04e+00   2.238744647e-01   2.238744718e-01   5.9e-11  0.24  \n"
       ]
      },
      {
       "output_type": "stream",
       "stream": "stdout",
       "text": [
        "Interior-point optimizer terminated. Time: 0.24. \n"
       ]
      },
      {
       "output_type": "stream",
       "stream": "stdout",
       "text": [
        "\n"
       ]
      },
      {
       "output_type": "stream",
       "stream": "stdout",
       "text": [
        "Optimizer terminated. Time: 0.25    \n"
       ]
      },
      {
       "output_type": "stream",
       "stream": "stdout",
       "text": [
        "\n"
       ]
      },
      {
       "output_type": "stream",
       "stream": "stdout",
       "text": [
        "Interior-point solution summary\n"
       ]
      },
      {
       "output_type": "stream",
       "stream": "stdout",
       "text": [
        "  Problem status  : PRIMAL_AND_DUAL_FEASIBLE\n"
       ]
      },
      {
       "output_type": "stream",
       "stream": "stdout",
       "text": [
        "  Solution status : NEAR_OPTIMAL\n"
       ]
      },
      {
       "output_type": "stream",
       "stream": "stdout",
       "text": [
        "  Primal.  obj: 2.2387446466e-01    Viol.  con: 1e-07    var: 0e+00    barvar: 0e+00  \n"
       ]
      },
      {
       "output_type": "stream",
       "stream": "stdout",
       "text": [
        "  Dual.    obj: 2.2387447178e-01    Viol.  con: 0e+00    var: 1e-07    barvar: 0e+00  \n"
       ]
      },
      {
       "output_type": "stream",
       "stream": "stdout",
       "text": [
        "Solution status is near_optimal\n"
       ]
      },
      {
       "metadata": {},
       "output_type": "display_data",
       "png": "[encoded data removed]",
       "text": [
        "<matplotlib.figure.Figure at 0x7fd71fcfb410>"
       ]
      }
     ],
     "prompt_number": 82
    },
    {
     "cell_type": "markdown",
     "metadata": {},
     "source": [
      "In fact, we showed in the tutorial session that this problem can also be formulated as an SOCP. Implement it here"
     ]
    },
    {
     "cell_type": "code",
     "collapsed": false,
     "input": [
      "n = len(nodes)\n",
      "m = len(bars)\n",
      "P = pic.Problem()\n",
      "v = stiffness_vectors()\n",
      "A = pic.new_param('A',cvx.matrix([vi.T for vi in v]).T)\n",
      "\n",
      "x = P.add_variable('x',m,lower=0)\n",
      "h = P.add_variable('h',m)\n",
      "t = P.add_variable('t',m,lower=0)\n",
      "\n",
      "P.add_constraint(A*h == f)\n",
      "for i in range(m):\n",
      "    P.add_constraint(h[i]**2 <= x[i]*t[i])\n",
      "\n",
      "P.add_constraint((LL|x)<=W)\n",
      "P.minimize(1|t,solver='mosek',handleConeVars=False,verbose=False)\n",
      "draw_truss(x=x.value,f=F)\n"
     ],
     "language": "python",
     "metadata": {},
     "outputs": [
      {
       "metadata": {},
       "output_type": "display_data",
       "png": "[encoded data removed]",
       "text": [
        "<matplotlib.figure.Figure at 0x7fd7180a5810>"
       ]
      }
     ],
     "prompt_number": 84
    },
    {
     "cell_type": "heading",
     "level": 3,
     "metadata": {},
     "source": [
      "Now, formulate an SDP to the problem of minimize the worst case compliance  $f^TK^{\u22121}f$, over the set of all force vectors $f$ such that $\\Vert f \\Vert_2 \\leq 1$."
     ]
    },
    {
     "cell_type": "code",
     "collapsed": false,
     "input": [
      "import picos as pic\n",
      "n = len(nodes)\n",
      "m = len(bars)\n",
      "\n",
      "P = pic.Problem()\n",
      "x = P.add_variable('x',m,lower=0)\n",
      "t = P.add_variable('t',1)\n",
      "LL = pic.new_param('LL',Lbars)\n",
      "\n",
      "#define the stiffness matrix (note: this is a linear expression w.r.t. x)\n",
      "K = stiffness_matrix(x)\n",
      "\n",
      "#identity matrix\n",
      "I = pic.new_param('I',np.eye(K.size[0]))\n",
      "\n",
      "P.add_constraint(K >> t*I)\n",
      "\n",
      "P.add_constraint((LL|x)<=W)\n",
      "\n",
      "P.set_objective('max',t)\n",
      "P.solve(verbose=False)\n",
      "\n",
      "draw_truss(x=x.value)"
     ],
     "language": "python",
     "metadata": {},
     "outputs": [
      {
       "metadata": {},
       "output_type": "display_data",
       "png": "[encoded data removed]",
       "text": [
        "<matplotlib.figure.Figure at 0x7fd71ff0c0d0>"
       ]
      }
     ],
     "prompt_number": 85
    },
    {
     "cell_type": "markdown",
     "metadata": {},
     "source": [
      "### A somewhat more realistic load model is that of a force f acting in an unknown direction, but only at the extremity of the crane. Formulate an SDP in this case."
     ]
    },
    {
     "cell_type": "code",
     "collapsed": false,
     "input": [
      "import picos as pic\n",
      "n = len(nodes)\n",
      "m = len(bars)\n",
      "\n",
      "P = pic.Problem()\n",
      "x = P.add_variable('x',m,lower=0)\n",
      "t = P.add_variable('t',1)\n",
      "LL = pic.new_param('LL',Lbars)\n",
      "\n",
      "#define the stiffness matrix (note: this is a linear expression w.r.t. x)\n",
      "K = stiffness_matrix(x)\n",
      "B = cvx.matrix(0.,K.size)\n",
      "i0 = np.where(np.array(f.value)!=0)[0] #indices of degrees of freedom of the extremity of the crane\n",
      "for i in i0:\n",
      "    B[i,i]=1.\n",
      "\n",
      "P.add_constraint(K >> t*B)\n",
      "\n",
      "P.add_constraint((LL|x)<=W)\n",
      "\n",
      "P.set_objective('max',t)\n",
      "P.solve(verbose=False)\n",
      "\n",
      "draw_truss(x=x.value)"
     ],
     "language": "python",
     "metadata": {},
     "outputs": [
      {
       "metadata": {},
       "output_type": "display_data",
       "png": "[encoded data removed]",
       "text": [
        "<matplotlib.figure.Figure at 0x7fd72d9c9d50>"
       ]
      }
     ],
     "prompt_number": 86
    }
   ],
   "metadata": {}
  }
 ]
}