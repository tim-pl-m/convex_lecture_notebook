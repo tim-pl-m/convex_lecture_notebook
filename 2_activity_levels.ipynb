{
 "metadata": {
  "kernelspec": {
   "display_name": "Python 2",
   "language": "python",
   "name": "python2"
  },
  "language_info": {
   "codemirror_mode": {
    "name": "ipython",
    "version": 2
   },
   "file_extension": ".py",
   "mimetype": "text/x-python",
   "name": "python",
   "nbconvert_exporter": "python",
   "pygments_lexer": "ipython2",
   "version": "2.7.6"
  },
  "name": "",
  "signature": "sha256:27ae70b023cbb4d7a095437f356c3f31562a539cdde65f9e42a1b547a5550769"
 },
 "nbformat": 3,
 "nbformat_minor": 0,
 "worksheets": [
  {
   "cells": [
    {
     "cell_type": "heading",
     "level": 3,
     "metadata": {},
     "source": [
      "Import the necessary packages"
     ]
    },
    {
     "cell_type": "code",
     "collapsed": true,
     "input": [
      "import numpy as np\n",
      "import cvxopt as cvx\n",
      "import picos as pic"
     ],
     "language": "python",
     "metadata": {},
     "outputs": [],
     "prompt_number": 1
    },
    {
     "cell_type": "heading",
     "level": 3,
     "metadata": {},
     "source": [
      "Load and Display the problem data"
     ]
    },
    {
     "cell_type": "code",
     "collapsed": false,
     "input": [
      "A = cvx.matrix([[1,2,0,1],[0,0,3,1],[0,3,1,1],[2,1,2,5],[1,0,3,2]]).T\n",
      "cmax = cvx.matrix([100]*5)\n",
      "p = cvx.matrix([5,2,7,6])\n",
      "pdisc = cvx.matrix([1,1,4,2])\n",
      "q = cvx.matrix([5,10,5,10])\n",
      "print 'A\\n',A\n",
      "print 'cmax\\n',cmax\n",
      "print 'p\\n',p\n",
      "print 'pdisc\\n',pdisc\n",
      "print 'q\\n',q"
     ],
     "language": "python",
     "metadata": {},
     "outputs": [
      {
       "output_type": "stream",
       "stream": "stdout",
       "text": [
        "A\n",
        "[ 1  2  0  1]\n",
        "[ 0  0  3  1]\n",
        "[ 0  3  1  1]\n",
        "[ 2  1  2  5]\n",
        "[ 1  0  3  2]\n",
        "\n",
        "cmax\n",
        "[ 100]\n",
        "[ 100]\n",
        "[ 100]\n",
        "[ 100]\n",
        "[ 100]\n",
        "\n",
        "p\n",
        "[ 5]\n",
        "[ 2]\n",
        "[ 7]\n",
        "[ 6]\n",
        "\n",
        "pdisc\n",
        "[ 1]\n",
        "[ 1]\n",
        "[ 4]\n",
        "[ 2]\n",
        "\n",
        "q\n",
        "[  5]\n",
        "[ 10]\n",
        "[  5]\n",
        "[ 10]\n",
        "\n"
       ]
      }
     ],
     "prompt_number": 2
    },
    {
     "cell_type": "heading",
     "level": 3,
     "metadata": {},
     "source": [
      "Create the problem instance"
     ]
    },
    {
     "cell_type": "code",
     "collapsed": false,
     "input": [
      "P = pic.Problem()\n",
      "\n",
      "# the following lines are optional,\n",
      "# but it will allow you to display the problem\n",
      "# in a pretty form at the end of this block\n",
      "A = pic.new_param('A',A)\n",
      "p = pic.new_param('p',p)\n",
      "pdisc = pic.new_param('pdisc',pdisc)\n",
      "q = pic.new_param('q',q)\n",
      "cmax = pic.new_param('cmax',cmax)\n",
      "\n",
      "#Decision variable for the activity levels\n",
      "x = P.add_variable('x',4)\n",
      "#Decision variable for the revenue of each activity\n",
      "r = P.add_variable('r',4)\n",
      "\n",
      "P.add_constraint(x>=0)\n",
      "#TODO: enter the other constraints of the problem here\n",
      "...\n",
      "\n",
      "#TODO enter the objective function here\n",
      "P.set_objective('max',...)\n",
      "print P"
     ],
     "language": "python",
     "metadata": {},
     "outputs": [],
     "prompt_number": 2
    },
    {
     "cell_type": "code",
     "collapsed": false,
     "input": [
      "#solve the problem\n",
      "P.solve()\n",
      "\n",
      "#Display the optimal variables\n",
      "print 'x\\n',x\n",
      "#TODO: print the other quantities you are interested in\n",
      "..."
     ],
     "language": "python",
     "metadata": {},
     "outputs": [],
     "prompt_number": 2
    }
   ],
   "metadata": {}
  }
 ]
}