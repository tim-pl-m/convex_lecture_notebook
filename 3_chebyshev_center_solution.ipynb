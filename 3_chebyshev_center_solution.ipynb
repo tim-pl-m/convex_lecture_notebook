{
 "metadata": {
  "name": "",
  "signature": "sha256:e48563966480c9e8ad14c46c677733ed624cb65cbd75d79a317d8634cdc02eee"
 },
 "nbformat": 3,
 "nbformat_minor": 0,
 "worksheets": [
  {
   "cells": [
    {
     "cell_type": "heading",
     "level": 3,
     "metadata": {},
     "source": [
      "Import package, data, vizualisation functions"
     ]
    },
    {
     "cell_type": "code",
     "collapsed": false,
     "input": [
      "import numpy as np\n",
      "import cvxopt as cvx\n",
      "import picos as pic\n",
      "import itertools\n",
      "import matplotlib\n",
      "import matplotlib.pyplot as plt\n",
      "%matplotlib inline \n",
      "matplotlib.rcParams['figure.figsize'] = (10, 10)"
     ],
     "language": "python",
     "metadata": {},
     "outputs": [],
     "prompt_number": 1
    },
    {
     "cell_type": "code",
     "collapsed": false,
     "input": [
      "A = cvx.matrix([[-4,-1],[-1,-2],[-2,1],[-1,-6],[1,2],[6,-2],[0,1]]).T\n",
      "b = cvx.matrix([-9,-4,0,-6,11,17,4])\n",
      "\n",
      "print 'A\\n',A\n",
      "print 'b\\n',b"
     ],
     "language": "python",
     "metadata": {},
     "outputs": [
      {
       "output_type": "stream",
       "stream": "stdout",
       "text": [
        "A\n",
        "[-4 -1]\n",
        "[-1 -2]\n",
        "[-2  1]\n",
        "[-1 -6]\n",
        "[ 1  2]\n",
        "[ 6 -2]\n",
        "[ 0  1]\n",
        "\n",
        "b\n",
        "[ -9]\n",
        "[ -4]\n",
        "[  0]\n",
        "[ -6]\n",
        "[ 11]\n",
        "[ 17]\n",
        "[  4]\n",
        "\n"
       ]
      }
     ],
     "prompt_number": 2
    },
    {
     "cell_type": "code",
     "collapsed": false,
     "input": [
      "def remove_midpoints(ext):\n",
      "    eps = 1e-10\n",
      "    n,m = ext.shape\n",
      "    IJK = []\n",
      "    for i,j,k in itertools.permutations(range(n),3):\n",
      "        u = ext[j]-ext[i]\n",
      "        v = ext[k]-ext[i]\n",
      "        if u.dot(v)+np.linalg.norm(u)*np.linalg.norm(v)<=eps:\n",
      "            IJK.append(i)\n",
      "    return ext[list(set(range(n))-set(IJK))]\n",
      "\n",
      "def ext_points(A,b):\n",
      "    A_np = np.array(A)\n",
      "    eps = 1e-10\n",
      "    b_np = np.array(b)\n",
      "    n,m = A_np.shape\n",
      "    ext = []\n",
      "    for I in itertools.combinations(range(n),m):\n",
      "        xI = np.linalg.lstsq(A_np[list(I)],b_np[list(I)])[0]\n",
      "        if max(A_np.dot(xI)-b_np)<=eps:\n",
      "            if not(ext) or min([np.linalg.norm(e.ravel()-xI.ravel()) for e in ext])>eps:\n",
      "                ext.append(xI.ravel())\n",
      "    ext = np.array(ext)\n",
      "    return remove_midpoints(ext)\n",
      "\n",
      "def facets(A,b,order=2):\n",
      "    ext = ext_points(A,b)\n",
      "    n,m = ext.shape\n",
      "    A_np = np.array(A)\n",
      "    b_np = np.array(b)\n",
      "    eps = 1e-10\n",
      "    F = []\n",
      "    for I in itertools.combinations(range(n),order):\n",
      "        if max(A_np.dot(ext[list(I)].T.dot([1./order]*order))-b_np.ravel())>=-eps:\n",
      "            F.append(ext[list(I)]) \n",
      "    return F\n",
      "\n",
      "def draw_poly(A,b,xc=None,r=None):\n",
      "    if A.size[1]==2:\n",
      "        ext = ext_points(A,b)\n",
      "        F = facets(A,b)\n",
      "        plt.scatter(ext[:,0],ext[:,1])\n",
      "        for Fi in F:\n",
      "            plt.plot(Fi[:,0],Fi[:,1],'r')\n",
      "        \n",
      "def draw_circle(xc,r):\n",
      "    ax = plt.gca()\n",
      "    if hasattr(r,'__iter__'):#r is a sequence (normally, of length 1)\n",
      "        r = r[0]\n",
      "    ax.add_artist(plt.Circle(xc,r))\n",
      "    ax.set_xlim(0.5,4.5)\n",
      "    ax.set_ylim(0.5,4.5)"
     ],
     "language": "python",
     "metadata": {},
     "outputs": [],
     "prompt_number": 3
    },
    {
     "cell_type": "heading",
     "level": 3,
     "metadata": {},
     "source": [
      "Let us visualize the polyhedron $P$ defined by the set of inequalities $A\\boldsymbol{x}\\leq \\boldsymbol{b}$.\n",
      "We also draw the ball of center (2.5,2) and radius 1, which clearly isn't contained in $P$:"
     ]
    },
    {
     "cell_type": "code",
     "collapsed": false,
     "input": [
      "draw_circle((2.5,2),1)\n",
      "draw_poly(A,b)"
     ],
     "language": "python",
     "metadata": {},
     "outputs": [
      {
       "metadata": {},
       "output_type": "display_data",
       "png": "[encoded data removed]",
       "text": [
        "<matplotlib.figure.Figure at 0x7fb8a1a65290>"
       ]
      }
     ],
     "prompt_number": 4
    },
    {
     "cell_type": "heading",
     "level": 3,
     "metadata": {},
     "source": [
      "Let us now implement the Chebyshev center problem with Picos:"
     ]
    },
    {
     "cell_type": "code",
     "collapsed": false,
     "input": [
      "P = pic.Problem()\n",
      "n,m = A.size\n",
      "xc = P.add_variable('xc',m)\n",
      "r = P.add_variable('r',1)\n",
      "for i in range(n):\n",
      "    norm_a_i = np.linalg.norm(A[i,:])\n",
      "    P.add_constraint(A[i,:]*xc + r * norm_a_i <= b[i] )   \n",
      "P.set_objective('max',r)"
     ],
     "language": "python",
     "metadata": {},
     "outputs": [],
     "prompt_number": 5
    },
    {
     "cell_type": "heading",
     "level": 3,
     "metadata": {},
     "source": [
      "Solve the problem"
     ]
    },
    {
     "cell_type": "code",
     "collapsed": false,
     "input": [
      "P.solve()\n",
      "print 'xc\\n',xc,'r\\n',r\n"
     ],
     "language": "python",
     "metadata": {},
     "outputs": [
      {
       "output_type": "stream",
       "stream": "stderr",
       "text": [
        "Freeing MIP data.\n"
       ]
      },
      {
       "output_type": "stream",
       "stream": "stdout",
       "text": [
        "\n",
        "adding constraints...\n",
        "\n",
        "\n",
        "Passing to cplex...\n",
        "CPLEX INSTANCE created\n",
        "Tried aggregator 1 time.\n"
       ]
      },
      {
       "output_type": "stream",
       "stream": "stdout",
       "text": [
        "No LP presolve or aggregator reductions.\n"
       ]
      },
      {
       "output_type": "stream",
       "stream": "stdout",
       "text": [
        "Presolve time = 0.00 sec. (0.00 ticks)\n"
       ]
      },
      {
       "output_type": "stream",
       "stream": "stdout",
       "text": [
        "\n",
        "Iteration log . . .\n"
       ]
      },
      {
       "output_type": "stream",
       "stream": "stdout",
       "text": [
        "Iteration:     1   Dual infeasibility =             1.000000\n"
       ]
      },
      {
       "output_type": "stream",
       "stream": "stdout",
       "text": [
        "Iteration:     5   Dual objective     =             1.083892\n"
       ]
      },
      {
       "output_type": "stream",
       "stream": "stdout",
       "text": [
        "Solution status = 1:\n",
        "optimal\n",
        "xc\n",
        "[ 2.65e+00]\n",
        "[ 2.87e+00]\n",
        " r\n",
        "1.08389201821\n"
       ]
      }
     ],
     "prompt_number": 6
    },
    {
     "cell_type": "heading",
     "level": 3,
     "metadata": {},
     "source": [
      "Visualize the solution"
     ]
    },
    {
     "cell_type": "code",
     "collapsed": false,
     "input": [
      "draw_circle(xc.value,r.value)\n",
      "draw_poly(A,b)"
     ],
     "language": "python",
     "metadata": {},
     "outputs": [
      {
       "metadata": {},
       "output_type": "display_data",
       "png": "[encoded data removed]",
       "text": [
        "<matplotlib.figure.Figure at 0x7fb87f40c290>"
       ]
      }
     ],
     "prompt_number": 7
    }
   ],
   "metadata": {}
  }
 ]
}