{
 "metadata": {
  "kernelspec": {
   "display_name": "Python 2",
   "language": "python",
   "name": "python2"
  },
  "language_info": {
   "codemirror_mode": {
    "name": "ipython",
    "version": 2
   },
   "file_extension": ".py",
   "mimetype": "text/x-python",
   "name": "python",
   "nbconvert_exporter": "python",
   "pygments_lexer": "ipython2",
   "version": "2.7.6"
  },
  "name": "",
  "signature": "sha256:2204facfe73563631b87ee0c4b022bc7cbd52dd2a941f697c5f889a88a69100e"
 },
 "nbformat": 3,
 "nbformat_minor": 0,
 "worksheets": [
  {
   "cells": [
    {
     "cell_type": "heading",
     "level": 3,
     "metadata": {},
     "source": [
      "Import the necessary packages"
     ]
    },
    {
     "cell_type": "code",
     "collapsed": true,
     "input": [
      "import numpy as np\n",
      "import cvxopt as cvx\n",
      "import picos as pic"
     ],
     "language": "python",
     "metadata": {},
     "outputs": [],
     "prompt_number": 1
    },
    {
     "cell_type": "heading",
     "level": 3,
     "metadata": {},
     "source": [
      "Load and Display the problem data"
     ]
    },
    {
     "cell_type": "code",
     "collapsed": false,
     "input": [
      "A = cvx.matrix([[1,2,0,1],[0,0,3,1],[0,3,1,1],[2,1,2,5],[1,0,3,2]]).T\n",
      "cmax = cvx.matrix([100]*5)\n",
      "p = cvx.matrix([5,2,7,6])\n",
      "pdisc = cvx.matrix([1,1,4,2])\n",
      "q = cvx.matrix([5,10,5,10])\n",
      "print 'A\\n',A\n",
      "print 'cmax\\n',cmax\n",
      "print 'p\\n',p\n",
      "print 'pdisc\\n',pdisc\n",
      "print 'q\\n',q"
     ],
     "language": "python",
     "metadata": {},
     "outputs": [
      {
       "output_type": "stream",
       "stream": "stdout",
       "text": [
        "A\n",
        "[ 1  2  0  1]\n",
        "[ 0  0  3  1]\n",
        "[ 0  3  1  1]\n",
        "[ 2  1  2  5]\n",
        "[ 1  0  3  2]\n",
        "\n",
        "cmax\n",
        "[ 100]\n",
        "[ 100]\n",
        "[ 100]\n",
        "[ 100]\n",
        "[ 100]\n",
        "\n",
        "p\n",
        "[ 5]\n",
        "[ 2]\n",
        "[ 7]\n",
        "[ 6]\n",
        "\n",
        "pdisc\n",
        "[ 1]\n",
        "[ 1]\n",
        "[ 4]\n",
        "[ 2]\n",
        "\n",
        "q\n",
        "[  5]\n",
        "[ 10]\n",
        "[  5]\n",
        "[ 10]\n",
        "\n"
       ]
      }
     ],
     "prompt_number": 2
    },
    {
     "cell_type": "heading",
     "level": 3,
     "metadata": {},
     "source": [
      "Create the problem instance"
     ]
    },
    {
     "cell_type": "code",
     "collapsed": false,
     "input": [
      "P = pic.Problem()\n",
      "\n",
      "# the following lines are optional,\n",
      "# but it will allow you to display the problem\n",
      "# in a pretty form at the end of this block\n",
      "A = pic.new_param('A',A)\n",
      "p = pic.new_param('p',p)\n",
      "pdisc = pic.new_param('pdisc',pdisc)\n",
      "q = pic.new_param('q',q)\n",
      "cmax = pic.new_param('cmax',cmax)\n",
      "\n",
      "#Decision variable for the activity levels\n",
      "x = P.add_variable('x',4)\n",
      "#Decision variable for the revenue of each activity\n",
      "r = P.add_variable('r',4)\n",
      "\n",
      "P.add_constraint(x>=0)\n",
      "#TODO: enter the other constraints of the problem here\n",
      "P.add_constraint(A*x<=cmax)\n",
      "P.add_constraint(r<=p^x)\n",
      "P.add_constraint(r<= (p^q) + (pdisc^(x-q)))\n",
      "\n",
      "#TODO enter the objective function here\n",
      "P.set_objective('max',1|r)\n",
      "print P"
     ],
     "language": "python",
     "metadata": {},
     "outputs": [
      {
       "output_type": "stream",
       "stream": "stdout",
       "text": [
        "---------------------\n",
        "optimization problem  (LP):\n",
        "8 variables, 17 affine constraints\n",
        "\n",
        "x \t: (4, 1), continuous\n",
        "r \t: (4, 1), continuous\n",
        "\n",
        "\tmaximize \u3008 |1| | r \u3009\n",
        "such that\n",
        "  x > |0|\n",
        "  A*x < cmax\n",
        "  r < p\u2218x\n",
        "  r < q\u2218p + pdisc\u2218( x -q )\n",
        "---------------------\n"
       ]
      }
     ],
     "prompt_number": 3
    },
    {
     "cell_type": "code",
     "collapsed": false,
     "input": [
      "P.solve(solver='cvxopt')\n",
      "print 'x\\n',x\n",
      "print 'r\\n',r\n",
      "print 'consumption\\n',A*x\n",
      "print 'total revenue\\n',1|r,'\\n'\n",
      "print 'average prices\\n', [r.value[i]/x.value[i] for i in range(4)]"
     ],
     "language": "python",
     "metadata": {},
     "outputs": [
      {
       "output_type": "stream",
       "stream": "stdout",
       "text": [
        "--------------------------\n",
        "  cvxopt CONELP solver\n",
        "--------------------------\n",
        "     pcost       dcost       gap    pres   dres   k/t"
       ]
      },
      {
       "output_type": "stream",
       "stream": "stdout",
       "text": [
        "\n",
        " 0: -2.4487e+02 -9.3752e+02  8e+02  4e-01  4e+00  1e+00\n",
        " 1: -1.9283e+02 -2.6312e+02  5e+01  5e-02  4e-01  2e+00\n",
        " 2: -2.0347e+02 -2.2060e+02  1e+01  1e-02  9e-02  5e-01\n",
        " 3: -2.0279e+02 -2.0513e+02  1e+00  2e-03  1e-02  7e-02\n",
        " 4: -2.0296e+02 -2.0311e+02  9e-02  1e-04  8e-04  5e-03\n",
        " 5: -2.0297e+02 -2.0297e+02  9e-04  1e-06  8e-06  5e-05\n",
        " 6: -2.0297e+02 -2.0297e+02  9e-06  1e-08  8e-08  5e-07\n",
        " 7: -2.0297e+02 -2.0297e+02  9e-08  1e-10  8e-10  5e-09\n",
        "Optimal solution found.\n",
        "cvxopt status: optimal\n",
        "x\n",
        "[ 5.00e+00]\n",
        "[ 2.27e+01]\n",
        "[ 3.09e+01]\n",
        "[ 1.09e+00]\n",
        "\n",
        "r\n",
        "[ 2.50e+01]\n",
        "[ 3.27e+01]\n",
        "[ 1.39e+02]\n",
        "[ 6.56e+00]\n",
        "\n",
        "consumption\n",
        "[ 5.14e+01]\n",
        "[ 9.39e+01]\n",
        "[ 1.00e+02]\n",
        "[ 1.00e+02]\n",
        "[ 1.00e+02]\n",
        "\n",
        "total revenue\n",
        "202.968749994 \n",
        "\n",
        "average prices\n",
        "[4.999999998213328, 1.441379310529724, 4.4848484849619625, 6.000000001600981]\n"
       ]
      }
     ],
     "prompt_number": 4
    }
   ],
   "metadata": {}
  }
 ]
}