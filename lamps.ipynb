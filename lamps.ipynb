{
 "metadata": {
  "name": "",
  "signature": "sha256:0aa34b53130266f7974004049239e72e9be0771ace00c9bd878a312b11d57d56"
 },
 "nbformat": 3,
 "nbformat_minor": 0,
 "worksheets": [
  {
   "cells": [
    {
     "cell_type": "code",
     "collapsed": false,
     "input": [
      "import numpy as np\n",
      "import cvxopt as cvx\n",
      "import matplotlib\n",
      "import matplotlib.cm\n",
      "import matplotlib.pyplot as plt\n",
      "from numpy import log,exp\n",
      "%matplotlib inline \n",
      "matplotlib.rcParams['figure.figsize'] = (10, 6)"
     ],
     "language": "python",
     "metadata": {},
     "outputs": [],
     "prompt_number": 1
    },
    {
     "cell_type": "heading",
     "level": 3,
     "metadata": {},
     "source": [
      "Let us generate some data:"
     ]
    },
    {
     "cell_type": "code",
     "collapsed": false,
     "input": [
      "np.random.seed(420) #makes data reproducible\n",
      "\n",
      "Ides = 0.1\n",
      "pmax = 2.\n",
      "N = 30\n",
      "M = 10\n",
      "slope = 0.6\n",
      "\n",
      "xxx = [-0.5]\n",
      "yyy = [0.]\n",
      "x = []\n",
      "y = []\n",
      "for i in range(N):\n",
      "    s = np.random.randn()\n",
      "    yyy.append(yyy[-1]+slope * s)\n",
      "    xxx.append(xxx[-1]+1.)\n",
      "    x.append(0.5*(xxx[-1]+xxx[-2]))\n",
      "    y.append(0.5*(yyy[-1]+yyy[-2]))\n",
      "    \n",
      "ymax = max(yyy)    \n",
      "\n",
      "ylamps = [ymax +2.] * M\n",
      "xlamps = sorted(np.random.rand(M)*N)\n",
      "\n",
      "plt.plot(xxx,yyy)\n",
      "plt.scatter(x,y,color = 'red')\n",
      "plt.scatter(xlamps,ylamps, color = 'green')"
     ],
     "language": "python",
     "metadata": {},
     "outputs": [
      {
       "metadata": {},
       "output_type": "pyout",
       "prompt_number": 2,
       "text": [
        "<matplotlib.collections.PathCollection at 0x7f7cf725b810>"
       ]
      },
      {
       "metadata": {},
       "output_type": "display_data",
       "png": "[encoded data removed]",
       "text": [
        "<matplotlib.figure.Figure at 0x7f7cf732c6d0>"
       ]
      }
     ],
     "prompt_number": 2
    },
    {
     "cell_type": "markdown",
     "metadata": {},
     "source": [
      "The blue profile is a collection of $N=30$ patches. The green dots above are lamps. The goal of this exercize is to set the power of each lamp, in order to obtain an intensity *as uniform as possible* on all patches. The quantity of interest is in fact $\\log I$. We propose to minimize\n",
      "$$\\max_{k=1,\\ldots,N}\\ | \\log I_k - \\log I_{des} | ,$$\n",
      "subject to the constraint that the power of each lamp must be in the interval $[0,p_{max}]$.\n",
      "\n",
      "Physics tell us that the intesity on the ith patch is given by\n",
      "$ I_k = \\sum_{j=1}^M A_{i,j}\\, p_j$,\n",
      "where $p_j$ is the power of the $j$th lamp and\n",
      "$$A_{i,j} = \\left\\{\\begin{array}{cl}\n",
      "                    \\frac{1}{(r_i,j)^2} \\cos \\theta_{i,j} & \\textrm{if patch $i$ receives light from lamp $j$}\\\\\n",
      "                    0 & \\textrm{otherwise.}\n",
      "                    \\end{array} \\right.                    \n",
      "$$\n",
      "In this formula, $r_{i,j}$ denotes the distance from patch $i$ to lamp $j$, and $\\theta_{i,j}$ is the illumination angle."
     ]
    },
    {
     "cell_type": "markdown",
     "metadata": {},
     "source": [
      "--"
     ]
    },
    {
     "cell_type": "heading",
     "level": 3,
     "metadata": {},
     "source": [
      "Computation of Matrix $A$"
     ]
    },
    {
     "cell_type": "code",
     "collapsed": false,
     "input": [
      "#r[i,j] is the distance from lamp j to patch i\n",
      "r = np.zeros((N,M))\n",
      "for i in range(N):\n",
      "    for j in range(M):\n",
      "        r[i,j] = np.linalg.norm([x[i]-xlamps[j],y[i]-ylamps[j]])\n",
      "\n",
      "\n",
      "#theta[i,j] is illumination angle from lamp j to patch i\n",
      "costheta = np.zeros((N,M))\n",
      "for i in range(N):\n",
      "    for j in range(M):\n",
      "        #index of xxx_k's between xi and xlamp_j\n",
      "        index_x_between = [k for k in range(N+1) if np.sign((xxx[k]-x[i])*(xxx[k]-xlamps[j])) == -1]\n",
      "        y_patch = [yyy[k] for k in index_x_between]\n",
      "        y_line_from_lamp = [ymax +2. + (xxx[k]-xlamps[j]) * (y[i]-ymax-2.)/(x[i]-xlamps[j]) for k in index_x_between]\n",
      "\n",
      "        if any([y2<=y1 for y1,y2 in zip(y_patch,y_line_from_lamp)]):\n",
      "            #this patch gets no line from this lamp (it is hidden by some other patch)\n",
      "            costheta[i,j] = 0.\n",
      "        else:\n",
      "            dy = yyy[i+1]-yyy[i]\n",
      "            normal_dir = np.array([-dy,1.])\n",
      "            normal_dir /= np.linalg.norm(normal_dir)\n",
      "            lamp_dir = np.array([xlamps[j]-x[i],ylamps[j]-y[i]])\n",
      "            costheta[i,j] = (normal_dir.dot(lamp_dir))/np.linalg.norm(lamp_dir)\n",
      "            \n",
      "assert np.min(costheta)>=0.\n",
      "assert np.min(costheta)<=1.\n",
      "\n",
      "A = cvx.matrix(0.,(N,M))\n",
      "for i in range(N):\n",
      "    for j in range(M):\n",
      "        A[i,j] = 1./r[i,j]**2 * costheta[i,j]"
     ],
     "language": "python",
     "metadata": {},
     "outputs": [],
     "prompt_number": 3
    },
    {
     "cell_type": "heading",
     "level": 3,
     "metadata": {},
     "source": [
      "short function to visualize a solution"
     ]
    },
    {
     "cell_type": "code",
     "collapsed": false,
     "input": [
      "def visualize_sol(pp,normalized=False):\n",
      "    colors = (np.log(A*pp)-np.log(Ides)).ravel()\n",
      "    if normalized:\n",
      "        mm,MM = -1.2,1.2\n",
      "    else:\n",
      "        mm,MM = min(colors),max(colors)\n",
      "    logdifs = np.array(colors)\n",
      "    colors -= mm\n",
      "    colors /= (MM-mm)\n",
      "    \n",
      "    for i in range(N):\n",
      "        plt.plot([xxx[i],xxx[i+1]],[yyy[i],yyy[i+1]],color = matplotlib.cm.jet(colors[i]),linewidth=2)\n",
      "    fg = plt.scatter(x,y,c=logdifs)\n",
      "    plt.scatter(xlamps,ylamps, s=20*pp)\n",
      "    cbar = plt.colorbar(fg)\n",
      "    yt = cbar.ax.get_yticks()\n",
      "    cbar.ax.set_yticklabels(['Ides * {0:.2f}'.format(yi) if yi>=1 else 'Ides / {0:.2f}'.format(1./yi) for yi in exp((MM-mm)*yt+mm)])\n",
      "    \n",
      "    II = A*pp\n",
      "    print 'des. Intensity: '+str(Ides)\n",
      "    print 'min  Intensity: '+str(min(II))\n",
      "    print 'max  Intensity: '+str(max(II))\n",
      "    print 'ratio Imax/Ides:'+str(max(II)/Ides)\n",
      "    print 'ratio Ides/Imin:'+str(Ides/min(II))\n",
      "    "
     ],
     "language": "python",
     "metadata": {},
     "outputs": [],
     "prompt_number": 4
    },
    {
     "cell_type": "markdown",
     "metadata": {},
     "source": [
      "Let us now visualize the solution with all lamps on, with a power p=1:"
     ]
    },
    {
     "cell_type": "code",
     "collapsed": false,
     "input": [
      "p_unit = cvx.matrix([1.]*M)\n",
      "print p_unit\n",
      "visualize_sol(p_unit)"
     ],
     "language": "python",
     "metadata": {},
     "outputs": [
      {
       "output_type": "stream",
       "stream": "stdout",
       "text": [
        "[ 1.00e+00]\n",
        "[ 1.00e+00]\n",
        "[ 1.00e+00]\n",
        "[ 1.00e+00]\n",
        "[ 1.00e+00]\n",
        "[ 1.00e+00]\n",
        "[ 1.00e+00]\n",
        "[ 1.00e+00]\n",
        "[ 1.00e+00]\n",
        "[ 1.00e+00]\n",
        "\n",
        "des. Intensity: 0.1"
       ]
      },
      {
       "output_type": "stream",
       "stream": "stdout",
       "text": [
        "\n",
        "min  Intensity: 0.0545211480435\n",
        "max  Intensity: 0.2531736417\n",
        "ratio Imax/Ides:2.531736417\n",
        "ratio Ides/Imin:1.83415066609\n"
       ]
      },
      {
       "metadata": {},
       "output_type": "display_data",
       "png": "[encoded data removed]",
       "text": [
        "<matplotlib.figure.Figure at 0x7f7cf731fad0>"
       ]
      }
     ],
     "prompt_number": 5
    },
    {
     "cell_type": "heading",
     "level": 3,
     "metadata": {},
     "source": [
      "Rounded Least-square approximation"
     ]
    },
    {
     "cell_type": "code",
     "collapsed": false,
     "input": [
      "import picos as pic\n",
      "P = pic.Problem()\n",
      "p = P.add_variable('p',M)\n",
      "P.minimize(abs(A*p-Ides)**2,verbose=False)\n",
      "p_sol = p.value\n",
      "p_rlsq = cvx.matrix([min(max(pi,0),pmax) for pi in p_sol])"
     ],
     "language": "python",
     "metadata": {},
     "outputs": [
      {
       "output_type": "stream",
       "stream": "stderr",
       "text": [
        "Freeing MIP data.\n"
       ]
      }
     ],
     "prompt_number": 6
    },
    {
     "cell_type": "markdown",
     "metadata": {},
     "source": [
      "Now, let's visualize the solution !"
     ]
    },
    {
     "cell_type": "code",
     "collapsed": false,
     "input": [
      "visualize_sol(p_rlsq)"
     ],
     "language": "python",
     "metadata": {},
     "outputs": [],
     "prompt_number": 0
    },
    {
     "cell_type": "heading",
     "level": 3,
     "metadata": {},
     "source": [
      "L1-approximation (LP)"
     ]
    },
    {
     "cell_type": "code",
     "collapsed": false,
     "input": [
      "import picos as pic\n",
      "P = pic.Problem()\n",
      "p = P.add_variable('p',M,lower=0,upper=pmax)\n",
      "#TODO ...\n",
      "p_l1 = p.value"
     ],
     "language": "python",
     "metadata": {},
     "outputs": [],
     "prompt_number": 0
    },
    {
     "cell_type": "code",
     "collapsed": false,
     "input": [
      "visualize_sol(p_l1)"
     ],
     "language": "python",
     "metadata": {},
     "outputs": [],
     "prompt_number": 0
    },
    {
     "cell_type": "heading",
     "level": 3,
     "metadata": {},
     "source": [
      "Constrained Least-square approximation (QP)"
     ]
    },
    {
     "cell_type": "code",
     "collapsed": false,
     "input": [
      "import picos as pic\n",
      "P = pic.Problem()\n",
      "p = P.add_variable('p',M)\n",
      "#TODO\n",
      "p_lsq = p.value"
     ],
     "language": "python",
     "metadata": {},
     "outputs": [],
     "prompt_number": 0
    },
    {
     "cell_type": "code",
     "collapsed": false,
     "input": [
      "visualize_sol(p_lsq)"
     ],
     "language": "python",
     "metadata": {},
     "outputs": [],
     "prompt_number": 0
    },
    {
     "cell_type": "heading",
     "level": 3,
     "metadata": {},
     "source": [
      "Convex-Programming solution"
     ]
    },
    {
     "cell_type": "code",
     "collapsed": false,
     "input": [
      "import picos as pic\n",
      "P = pic.Problem()\n",
      "p = P.add_variable('p',M,lower=0,upper=pmax)\n",
      "I = A*p\n",
      "#TODO\n",
      "p_cvx = p.value"
     ],
     "language": "python",
     "metadata": {},
     "outputs": [],
     "prompt_number": 0
    },
    {
     "cell_type": "code",
     "collapsed": false,
     "input": [
      "visualize_sol(p_cvx)"
     ],
     "language": "python",
     "metadata": {},
     "outputs": [],
     "prompt_number": 0
    },
    {
     "cell_type": "heading",
     "level": 3,
     "metadata": {},
     "source": [
      "LP solution + bisection"
     ]
    },
    {
     "cell_type": "code",
     "collapsed": false,
     "input": [
      "import picos as pic\n",
      "\n",
      "\n",
      "\n",
      "alpha_lo = 1\n",
      "alpha_up = 10\n",
      "\n",
      "alpha = (alpha_lo+alpha_up)/2.\n",
      "\n",
      "while alpha_up-alpha_lo > 0.0001:\n",
      "    P = pic.Problem()\n",
      "    p = P.add_variable('p',M,lower=0,upper=pmax)\n",
      "\n",
      "    #TODO\n",
      "    if P.status == 'optimal':\n",
      "        alpha_up = alpha\n",
      "        p_lpb = p.value\n",
      "    else:\n",
      "        alpha_lo = alpha\n",
      "        \n",
      "    alpha = (alpha_lo+alpha_up)/2.\n",
      "    print alpha_lo,alpha_up\n"
     ],
     "language": "python",
     "metadata": {},
     "outputs": [],
     "prompt_number": 0
    },
    {
     "cell_type": "code",
     "collapsed": false,
     "input": [
      "visualize_sol(p_lpb)"
     ],
     "language": "python",
     "metadata": {},
     "outputs": [],
     "prompt_number": 0
    }
   ],
   "metadata": {}
  }
 ]
}